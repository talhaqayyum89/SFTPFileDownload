{
 "cells": [
  {
   "cell_type": "code",
   "execution_count": null,
   "metadata": {
    "scrolled": true
   },
   "outputs": [
    {
     "name": "stdout",
     "output_type": "stream",
     "text": [
      "Connecting.................................\n",
      "Connected with remote server...............\n",
      "Downloading remote file....................\n"
     ]
    }
   ],
   "source": [
    "import paramiko\n",
    "import time\n",
    "paramiko.util.log_to_file(\"paramiko.log\")\n",
    "\n",
    "# Open a transport (Enter Client Auth)\n",
    "host = \"10.2.2.162\" \n",
    "port = 22 \n",
    "username = \"Mustafa Minhas\" \n",
    "password = \"mmkm\"\n",
    "filepath = r\"E:\\MATLAB\\MathWorks_MATLAB_R2016a\\R2016a_win64.iso\" #Path to File - Cleint Side\n",
    "localpath = r\"G:\\R2016a_win64.iso\" #Path to download - Remote Side\n",
    "\n",
    "download_stream(host=host,\n",
    "                port=port,\n",
    "                username=username,\n",
    "                password=password,\n",
    "                filepath=filepath,\n",
    "                localpath=localpath)"
   ]
  },
  {
   "cell_type": "code",
   "execution_count": 56,
   "metadata": {},
   "outputs": [],
   "source": [
    "def download_stream(host, port, username, password, filepath, localpath):\n",
    "    transport = paramiko.Transport((host,port))\n",
    "    paramiko.sftp_file.SFTPFile.MAX_REQUEST_SIZE = pow(2, 22) # 4MB per chunk\n",
    "\n",
    "    print(\"Connecting.................................\")\n",
    "    transport.connect(None,username,password)\n",
    "    print(\"Connected with remote server...............\")\n",
    "    # Go!    \n",
    "    sftp = paramiko.SFTPClient.from_transport(transport)\n",
    "\n",
    "    # Download\n",
    "    print('Downloading remote file....................')\n",
    "    start_time = time.time()\n",
    "\n",
    "    sftp.get(filepath,localpath)\n",
    "    minutes = (time.time() - start_time)/60\n",
    "    print('File Downloaded in {} minutes'.format(minutes))\n",
    "\n",
    "    # Close\n",
    "    if sftp: sftp.close()\n",
    "    if transport: transport.close()\n",
    "    print('Connection Close............................')\n",
    "    return None "
   ]
  },
  {
   "cell_type": "code",
   "execution_count": 45,
   "metadata": {},
   "outputs": [],
   "source": []
  }
 ],
 "metadata": {
  "kernelspec": {
   "display_name": "Python 3",
   "language": "python",
   "name": "python3"
  },
  "language_info": {
   "codemirror_mode": {
    "name": "ipython",
    "version": 3
   },
   "file_extension": ".py",
   "mimetype": "text/x-python",
   "name": "python",
   "nbconvert_exporter": "python",
   "pygments_lexer": "ipython3",
   "version": "3.8.5"
  }
 },
 "nbformat": 4,
 "nbformat_minor": 4
}
